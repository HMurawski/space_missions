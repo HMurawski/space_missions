{
 "cells": [
  {
   "cell_type": "markdown",
   "id": "6a9b5ba7",
   "metadata": {},
   "source": [
    "## Predicting Mission Success Probability in Space Exploration 🚀🚀 (https://www.kaggle.com/datasets/sameerk2004/space-missions-dataset/data)\n",
    "## Data Analysis & Forecasting & ML\n",
    "\n",
    "### started on 25.06.2025 as a tribute to Axiom 4 mission, that includes Sławosz Uznański-Wiśniewski, polish Astronaut"
   ]
  },
  {
   "cell_type": "markdown",
   "id": "3c6e9515",
   "metadata": {},
   "source": [
    "## 📈 Introduction\n",
    "\n",
    "The space mission dataset provides comprehensive information about various missions aimed at exploring celestial bodies, such as stars, exoplanets, and asteroids. Each mission entry contains critical details such as the mission ID, name, launch date, target type, mission type, distance from Earth, duration, cost, scientific yield, crew size, success rates, fuel consumption, payload weight, and launch vehicle. This dataset serves as a valuable resource for researchers, space agencies, and stakeholders looking to analyze the intricacies of space missions, assess their potential for success, and understand the resource investments required for exploring the universe."
   ]
  },
  {
   "cell_type": "markdown",
   "id": "c88ca583",
   "metadata": {},
   "source": [
    "## 🎯 Goals of the Notebook\n",
    "\n",
    "Understanding Mission Characteristics: To analyze the various attributes of space missions, including their types, target destinations, costs, and durations, to identify patterns and trends in space exploration.\n",
    "\n",
    "Evaluating Mission Success: To assess the success rates of different mission types and understand the factors contributing to their successes or failures, such as crew size, fuel consumption, and mission duration.\n",
    "\n",
    "Cost-Benefit Analysis: To analyze the financial aspects of the missions, comparing mission costs against their scientific yields and success rates to determine overall value and efficiency.\n",
    "\n",
    "Exploring Relationships Between Variables: To identify correlations and relationships between various mission attributes, such as the impact of distance from Earth on mission duration or the influence of payload weight on fuel consumption.\n",
    "\n",
    "Predictive Modeling: To develop predictive models that can estimate mission outcomes based on historical data, providing insights for planning future missions.\n",
    "\n",
    "Supporting Strategic Planning: To inform decision-making processes for space agencies and stakeholders regarding resource allocation, mission planning, and investment strategies in space exploration."
   ]
  },
  {
   "cell_type": "markdown",
   "id": "89564343",
   "metadata": {},
   "source": [
    "## 📊 Dataset Overview \n",
    "\n",
    "This dataset contains information about Crime Prediction , including:\n",
    "\n",
    "Mission ID: A unique identifier for each mission, allowing for easy referencing and tracking.\n",
    "\n",
    "Mission Name: The name of the mission, indicating its objective and target.\n",
    "\n",
    "Launch Date: The scheduled date for launching the mission, providing a timeline for mission planning.\n",
    "\n",
    "Target Type: The type of celestial body being targeted (e.g., Star, Exoplanet, Asteroid), indicating the mission's focus area.\n",
    "\n",
    "Target Name: The specific name of the target celestial body (e.g., Titan, Betelgeuse), providing context for the mission's objectives.\n",
    "\n",
    "Mission Type: The classification of the mission, such as Colonization, Exploration, or Mining, which defines its primary purpose.\n",
    "\n",
    "Distance from Earth (light-years): The distance of the target from Earth, measured in light-years, which affects mission planning and resource allocation.\n",
    "\n",
    "Mission Duration (years): The expected duration of the mission, measured in years, indicating the time commitment required for completion.\n",
    "\n",
    "Mission Cost (billion USD): The estimated financial cost of the mission in billions of USD, which is crucial for budgeting and funding considerations.\n",
    "\n",
    "Scientific Yield (points): A quantitative measure of the scientific value or output expected from the mission, often used to evaluate its success.\n",
    "\n",
    "Crew Size: The number of crew members involved in the mission, which can influence operational dynamics and costs.\n",
    "\n",
    "Mission Success (%): The percentage indicating the likelihood of mission success based on past data and projections, providing insights into mission feasibility.\n",
    "\n",
    "Fuel Consumption (tons): The total amount of fuel required for the mission, measured in tons, which impacts mission planning and environmental considerations.\n",
    "\n",
    "Payload Weight (tons): The weight of the payload carried by the mission, measured in tons, which affects fuel consumption and launch vehicle requirements.\n",
    "\n",
    "Launch Vehicle: The type of vehicle used to launch the mission, which can influence mission costs and capabilities."
   ]
  },
  {
   "cell_type": "markdown",
   "id": "ab7f5f77",
   "metadata": {},
   "source": [
    "## Section 1: Importing Necessary Libraries"
   ]
  },
  {
   "cell_type": "code",
   "execution_count": 1,
   "id": "5919cacc",
   "metadata": {},
   "outputs": [],
   "source": [
    "import pandas as pd\n",
    "import numpy as np\n",
    "import matplotlib.pyplot as plt\n",
    "import seaborn as sns\n",
    "import warnings\n",
    "warnings.filterwarnings('ignore')\n",
    "from sklearn.preprocessing import LabelEncoder, StandardScaler , OneHotEncoder\n",
    "from sklearn.model_selection import train_test_split\n",
    "from sklearn.linear_model import LinearRegression\n",
    "from sklearn.tree import DecisionTreeRegressor\n",
    "from sklearn.ensemble import RandomForestRegressor\n",
    "from sklearn.neighbors import KNeighborsRegressor\n",
    "from xgboost import XGBRegressor\n",
    "\n",
    "import optuna\n",
    "from sklearn.metrics import mean_squared_error, r2_score"
   ]
  },
  {
   "cell_type": "markdown",
   "id": "4d839ffb",
   "metadata": {},
   "source": [
    "## Section 2: Data Loading & Initial Inspection"
   ]
  },
  {
   "cell_type": "markdown",
   "id": "dbd5fd24",
   "metadata": {},
   "source": [
    "### 1. Basic Information About the Dataset"
   ]
  },
  {
   "cell_type": "code",
   "execution_count": 2,
   "id": "5e06939e",
   "metadata": {},
   "outputs": [],
   "source": [
    "df = pd.read_csv(\"data\\\\space_missions_dataset.csv\")\n"
   ]
  },
  {
   "cell_type": "code",
   "execution_count": 3,
   "id": "9dfe2f01",
   "metadata": {},
   "outputs": [
    {
     "data": {
      "text/html": [
       "<div>\n",
       "<style scoped>\n",
       "    .dataframe tbody tr th:only-of-type {\n",
       "        vertical-align: middle;\n",
       "    }\n",
       "\n",
       "    .dataframe tbody tr th {\n",
       "        vertical-align: top;\n",
       "    }\n",
       "\n",
       "    .dataframe thead th {\n",
       "        text-align: right;\n",
       "    }\n",
       "</style>\n",
       "<table border=\"1\" class=\"dataframe\">\n",
       "  <thead>\n",
       "    <tr style=\"text-align: right;\">\n",
       "      <th></th>\n",
       "      <th>Mission ID</th>\n",
       "      <th>Mission Name</th>\n",
       "      <th>Launch Date</th>\n",
       "      <th>Target Type</th>\n",
       "      <th>Target Name</th>\n",
       "      <th>Mission Type</th>\n",
       "      <th>Distance from Earth (light-years)</th>\n",
       "      <th>Mission Duration (years)</th>\n",
       "      <th>Mission Cost (billion USD)</th>\n",
       "      <th>Scientific Yield (points)</th>\n",
       "      <th>Crew Size</th>\n",
       "      <th>Mission Success (%)</th>\n",
       "      <th>Fuel Consumption (tons)</th>\n",
       "      <th>Payload Weight (tons)</th>\n",
       "      <th>Launch Vehicle</th>\n",
       "    </tr>\n",
       "  </thead>\n",
       "  <tbody>\n",
       "    <tr>\n",
       "      <th>0</th>\n",
       "      <td>MSN-0001</td>\n",
       "      <td>Mission-1</td>\n",
       "      <td>2025-01-01</td>\n",
       "      <td>Star</td>\n",
       "      <td>Titan</td>\n",
       "      <td>Colonization</td>\n",
       "      <td>7.05</td>\n",
       "      <td>5.2</td>\n",
       "      <td>526.68</td>\n",
       "      <td>64.3</td>\n",
       "      <td>21</td>\n",
       "      <td>100.0</td>\n",
       "      <td>731.88</td>\n",
       "      <td>99.78</td>\n",
       "      <td>SLS</td>\n",
       "    </tr>\n",
       "    <tr>\n",
       "      <th>1</th>\n",
       "      <td>MSN-0002</td>\n",
       "      <td>Mission-2</td>\n",
       "      <td>2025-01-08</td>\n",
       "      <td>Exoplanet</td>\n",
       "      <td>Betelgeuse</td>\n",
       "      <td>Colonization</td>\n",
       "      <td>41.76</td>\n",
       "      <td>23.0</td>\n",
       "      <td>234.08</td>\n",
       "      <td>84.4</td>\n",
       "      <td>72</td>\n",
       "      <td>89.6</td>\n",
       "      <td>4197.41</td>\n",
       "      <td>45.72</td>\n",
       "      <td>Starship</td>\n",
       "    </tr>\n",
       "    <tr>\n",
       "      <th>2</th>\n",
       "      <td>MSN-0003</td>\n",
       "      <td>Mission-3</td>\n",
       "      <td>2025-01-15</td>\n",
       "      <td>Asteroid</td>\n",
       "      <td>Mars</td>\n",
       "      <td>Exploration</td>\n",
       "      <td>49.22</td>\n",
       "      <td>28.8</td>\n",
       "      <td>218.68</td>\n",
       "      <td>98.6</td>\n",
       "      <td>16</td>\n",
       "      <td>98.6</td>\n",
       "      <td>4908.00</td>\n",
       "      <td>36.12</td>\n",
       "      <td>Starship</td>\n",
       "    </tr>\n",
       "    <tr>\n",
       "      <th>3</th>\n",
       "      <td>MSN-0004</td>\n",
       "      <td>Mission-4</td>\n",
       "      <td>2025-01-22</td>\n",
       "      <td>Exoplanet</td>\n",
       "      <td>Titan</td>\n",
       "      <td>Colonization</td>\n",
       "      <td>26.33</td>\n",
       "      <td>17.8</td>\n",
       "      <td>232.89</td>\n",
       "      <td>36.0</td>\n",
       "      <td>59</td>\n",
       "      <td>90.0</td>\n",
       "      <td>2569.05</td>\n",
       "      <td>40.67</td>\n",
       "      <td>Starship</td>\n",
       "    </tr>\n",
       "    <tr>\n",
       "      <th>4</th>\n",
       "      <td>MSN-0005</td>\n",
       "      <td>Mission-5</td>\n",
       "      <td>2025-01-29</td>\n",
       "      <td>Exoplanet</td>\n",
       "      <td>Proxima b</td>\n",
       "      <td>Mining</td>\n",
       "      <td>8.67</td>\n",
       "      <td>9.2</td>\n",
       "      <td>72.14</td>\n",
       "      <td>96.5</td>\n",
       "      <td>31</td>\n",
       "      <td>73.2</td>\n",
       "      <td>892.76</td>\n",
       "      <td>12.40</td>\n",
       "      <td>Starship</td>\n",
       "    </tr>\n",
       "  </tbody>\n",
       "</table>\n",
       "</div>"
      ],
      "text/plain": [
       "  Mission ID Mission Name  ... Payload Weight (tons) Launch Vehicle\n",
       "0   MSN-0001    Mission-1  ...                 99.78            SLS\n",
       "1   MSN-0002    Mission-2  ...                 45.72       Starship\n",
       "2   MSN-0003    Mission-3  ...                 36.12       Starship\n",
       "3   MSN-0004    Mission-4  ...                 40.67       Starship\n",
       "4   MSN-0005    Mission-5  ...                 12.40       Starship\n",
       "\n",
       "[5 rows x 15 columns]"
      ]
     },
     "execution_count": 3,
     "metadata": {},
     "output_type": "execute_result"
    }
   ],
   "source": [
    "df.head()"
   ]
  },
  {
   "cell_type": "code",
   "execution_count": 5,
   "id": "b759de17",
   "metadata": {},
   "outputs": [
    {
     "name": "stdout",
     "output_type": "stream",
     "text": [
      "df rows: 500\n",
      "df columns:  15\n"
     ]
    }
   ],
   "source": [
    "print('df rows:', df.shape[0])\n",
    "print('df columns: ', df.shape[1])"
   ]
  },
  {
   "cell_type": "code",
   "execution_count": 6,
   "id": "55534684",
   "metadata": {},
   "outputs": [
    {
     "name": "stdout",
     "output_type": "stream",
     "text": [
      "<class 'pandas.core.frame.DataFrame'>\n",
      "RangeIndex: 500 entries, 0 to 499\n",
      "Data columns (total 15 columns):\n",
      " #   Column                             Non-Null Count  Dtype  \n",
      "---  ------                             --------------  -----  \n",
      " 0   Mission ID                         500 non-null    object \n",
      " 1   Mission Name                       500 non-null    object \n",
      " 2   Launch Date                        500 non-null    object \n",
      " 3   Target Type                        500 non-null    object \n",
      " 4   Target Name                        500 non-null    object \n",
      " 5   Mission Type                       500 non-null    object \n",
      " 6   Distance from Earth (light-years)  500 non-null    float64\n",
      " 7   Mission Duration (years)           500 non-null    float64\n",
      " 8   Mission Cost (billion USD)         500 non-null    float64\n",
      " 9   Scientific Yield (points)          500 non-null    float64\n",
      " 10  Crew Size                          500 non-null    int64  \n",
      " 11  Mission Success (%)                500 non-null    float64\n",
      " 12  Fuel Consumption (tons)            500 non-null    float64\n",
      " 13  Payload Weight (tons)              500 non-null    float64\n",
      " 14  Launch Vehicle                     500 non-null    object \n",
      "dtypes: float64(7), int64(1), object(7)\n",
      "memory usage: 58.7+ KB\n"
     ]
    }
   ],
   "source": [
    "df.info()"
   ]
  },
  {
   "cell_type": "markdown",
   "id": "fb593019",
   "metadata": {},
   "source": [
    "### 2. Descriptive Statistics"
   ]
  },
  {
   "cell_type": "code",
   "execution_count": null,
   "id": "fa60eb9f",
   "metadata": {},
   "outputs": [
    {
     "data": {
      "text/html": [
       "<div>\n",
       "<style scoped>\n",
       "    .dataframe tbody tr th:only-of-type {\n",
       "        vertical-align: middle;\n",
       "    }\n",
       "\n",
       "    .dataframe tbody tr th {\n",
       "        vertical-align: top;\n",
       "    }\n",
       "\n",
       "    .dataframe thead th {\n",
       "        text-align: right;\n",
       "    }\n",
       "</style>\n",
       "<table border=\"1\" class=\"dataframe\">\n",
       "  <thead>\n",
       "    <tr style=\"text-align: right;\">\n",
       "      <th></th>\n",
       "      <th>Distance from Earth (light-years)</th>\n",
       "      <th>Mission Duration (years)</th>\n",
       "      <th>Mission Cost (billion USD)</th>\n",
       "      <th>Scientific Yield (points)</th>\n",
       "      <th>Crew Size</th>\n",
       "      <th>Mission Success (%)</th>\n",
       "      <th>Fuel Consumption (tons)</th>\n",
       "      <th>Payload Weight (tons)</th>\n",
       "    </tr>\n",
       "  </thead>\n",
       "  <tbody>\n",
       "    <tr>\n",
       "      <th>count</th>\n",
       "      <td>500.000000</td>\n",
       "      <td>500.000000</td>\n",
       "      <td>500.000000</td>\n",
       "      <td>500.000000</td>\n",
       "      <td>500.000000</td>\n",
       "      <td>500.000000</td>\n",
       "      <td>500.000000</td>\n",
       "      <td>500.000000</td>\n",
       "    </tr>\n",
       "    <tr>\n",
       "      <th>mean</th>\n",
       "      <td>25.483060</td>\n",
       "      <td>15.736800</td>\n",
       "      <td>277.300280</td>\n",
       "      <td>55.223400</td>\n",
       "      <td>50.118000</td>\n",
       "      <td>92.616600</td>\n",
       "      <td>2543.522140</td>\n",
       "      <td>50.355620</td>\n",
       "    </tr>\n",
       "    <tr>\n",
       "      <th>std</th>\n",
       "      <td>14.942128</td>\n",
       "      <td>7.578316</td>\n",
       "      <td>141.137422</td>\n",
       "      <td>26.446232</td>\n",
       "      <td>27.660989</td>\n",
       "      <td>9.391094</td>\n",
       "      <td>1492.964489</td>\n",
       "      <td>28.227546</td>\n",
       "    </tr>\n",
       "    <tr>\n",
       "      <th>min</th>\n",
       "      <td>0.350000</td>\n",
       "      <td>1.400000</td>\n",
       "      <td>13.320000</td>\n",
       "      <td>10.000000</td>\n",
       "      <td>1.000000</td>\n",
       "      <td>66.000000</td>\n",
       "      <td>18.060000</td>\n",
       "      <td>1.020000</td>\n",
       "    </tr>\n",
       "    <tr>\n",
       "      <th>25%</th>\n",
       "      <td>11.750000</td>\n",
       "      <td>8.900000</td>\n",
       "      <td>149.960000</td>\n",
       "      <td>33.775000</td>\n",
       "      <td>27.000000</td>\n",
       "      <td>85.500000</td>\n",
       "      <td>1177.315000</td>\n",
       "      <td>25.567500</td>\n",
       "    </tr>\n",
       "    <tr>\n",
       "      <th>50%</th>\n",
       "      <td>26.185000</td>\n",
       "      <td>16.400000</td>\n",
       "      <td>282.170000</td>\n",
       "      <td>54.400000</td>\n",
       "      <td>50.000000</td>\n",
       "      <td>98.600000</td>\n",
       "      <td>2597.985000</td>\n",
       "      <td>50.995000</td>\n",
       "    </tr>\n",
       "    <tr>\n",
       "      <th>75%</th>\n",
       "      <td>38.570000</td>\n",
       "      <td>22.200000</td>\n",
       "      <td>399.995000</td>\n",
       "      <td>79.025000</td>\n",
       "      <td>74.000000</td>\n",
       "      <td>100.000000</td>\n",
       "      <td>3859.355000</td>\n",
       "      <td>74.482500</td>\n",
       "    </tr>\n",
       "    <tr>\n",
       "      <th>max</th>\n",
       "      <td>49.900000</td>\n",
       "      <td>29.500000</td>\n",
       "      <td>538.320000</td>\n",
       "      <td>99.800000</td>\n",
       "      <td>99.000000</td>\n",
       "      <td>100.000000</td>\n",
       "      <td>5018.600000</td>\n",
       "      <td>99.780000</td>\n",
       "    </tr>\n",
       "  </tbody>\n",
       "</table>\n",
       "</div>"
      ],
      "text/plain": [
       "       Distance from Earth (light-years)  ...  Payload Weight (tons)\n",
       "count                         500.000000  ...             500.000000\n",
       "mean                           25.483060  ...              50.355620\n",
       "std                            14.942128  ...              28.227546\n",
       "min                             0.350000  ...               1.020000\n",
       "25%                            11.750000  ...              25.567500\n",
       "50%                            26.185000  ...              50.995000\n",
       "75%                            38.570000  ...              74.482500\n",
       "max                            49.900000  ...              99.780000\n",
       "\n",
       "[8 rows x 8 columns]"
      ]
     },
     "execution_count": 7,
     "metadata": {},
     "output_type": "execute_result"
    }
   ],
   "source": [
    "df.describe() #numeric columns"
   ]
  },
  {
   "cell_type": "markdown",
   "id": "96c96c8f",
   "metadata": {},
   "source": [
    "### 3. Checking and handling missing data"
   ]
  },
  {
   "cell_type": "code",
   "execution_count": 9,
   "id": "9d2d94b6",
   "metadata": {},
   "outputs": [
    {
     "data": {
      "text/plain": [
       "Mission ID                           0\n",
       "Mission Name                         0\n",
       "Launch Date                          0\n",
       "Target Type                          0\n",
       "Target Name                          0\n",
       "Mission Type                         0\n",
       "Distance from Earth (light-years)    0\n",
       "Mission Duration (years)             0\n",
       "Mission Cost (billion USD)           0\n",
       "Scientific Yield (points)            0\n",
       "Crew Size                            0\n",
       "Mission Success (%)                  0\n",
       "Fuel Consumption (tons)              0\n",
       "Payload Weight (tons)                0\n",
       "Launch Vehicle                       0\n",
       "dtype: int64"
      ]
     },
     "execution_count": 9,
     "metadata": {},
     "output_type": "execute_result"
    }
   ],
   "source": [
    "df.isnull().sum()"
   ]
  },
  {
   "cell_type": "code",
   "execution_count": 13,
   "id": "00732677",
   "metadata": {},
   "outputs": [
    {
     "data": {
      "text/plain": [
       "<Axes: >"
      ]
     },
     "execution_count": 13,
     "metadata": {},
     "output_type": "execute_result"
    },
    {
     "data": {
      "image/png": "[encoded data removed]",
      "text/plain": [
       "<Figure size 600x300 with 2 Axes>"
      ]
     },
     "metadata": {},
     "output_type": "display_data"
    }
   ],
   "source": [
    "import missingno as mnso\n",
    "mnso.matrix(df, figsize=(6,3))\n"
   ]
  },
  {
   "cell_type": "code",
   "execution_count": 15,
   "id": "4607d517",
   "metadata": {},
   "outputs": [
    {
     "data": {
      "text/plain": [
       "0"
      ]
     },
     "execution_count": 15,
     "metadata": {},
     "output_type": "execute_result"
    }
   ],
   "source": [
    "df.duplicated().sum()"
   ]
  },
  {
   "cell_type": "code",
   "execution_count": null,
   "id": "343e4281",
   "metadata": {},
   "outputs": [],
   "source": []
  }
 ],
 "metadata": {
  "kernelspec": {
   "display_name": "Python 3",
   "language": "python",
   "name": "python3"
  },
  "language_info": {
   "codemirror_mode": {
    "name": "ipython",
    "version": 3
   },
   "file_extension": ".py",
   "mimetype": "text/x-python",
   "name": "python",
   "nbconvert_exporter": "python",
   "pygments_lexer": "ipython3",
   "version": "3.11.3"
  }
 },
 "nbformat": 4,
 "nbformat_minor": 5
}
